{
  "nbformat": 4,
  "nbformat_minor": 0,
  "metadata": {
    "colab": {
      "provenance": [],
      "authorship_tag": "ABX9TyN7dtXe23fC/i+pMWkPNysu",
      "include_colab_link": true
    },
    "kernelspec": {
      "name": "python3",
      "display_name": "Python 3"
    },
    "language_info": {
      "name": "python"
    }
  },
  "cells": [
    {
      "cell_type": "markdown",
      "metadata": {
        "id": "view-in-github",
        "colab_type": "text"
      },
      "source": [
        "<a href=\"https://colab.research.google.com/github/sucharithabobba/SElab/blob/main/weatherarchitecture.ipynb\" target=\"_parent\"><img src=\"https://colab.research.google.com/assets/colab-badge.svg\" alt=\"Open In Colab\"/></a>"
      ]
    },
    {
      "cell_type": "code",
      "execution_count": 1,
      "metadata": {
        "colab": {
          "base_uri": "https://localhost:8080/",
          "height": 52
        },
        "id": "BAH5NMzI97Q6",
        "outputId": "3b3e83ea-5c0c-4b98-9386-e41e3f7dd45f"
      },
      "outputs": [
        {
          "output_type": "stream",
          "name": "stdout",
          "text": [
            "The weather in London is expected to be Sunny.\n"
          ]
        },
        {
          "output_type": "execute_result",
          "data": {
            "text/plain": [
              "'The weather in London is expected to be Stormy.'"
            ],
            "application/vnd.google.colaboratory.intrinsic+json": {
              "type": "string"
            }
          },
          "metadata": {},
          "execution_count": 1
        }
      ],
      "source": [
        "#Design the architecture with a quadratic model.\n",
        "\n",
        "import numpy as np\n",
        "\n",
        "def data_input(city, country, temperature=None, humidity=None, wind_speed=None):\n",
        "\n",
        "    return {\n",
        "        'city': city,\n",
        "        'country': country,\n",
        "        'temperature': temperature,\n",
        "        'humidity': humidity,\n",
        "        'wind_speed': wind_speed\n",
        "    }\n",
        "\n",
        "def data_preprocessor(user_data):\n",
        "\n",
        "    if user_data['temperature'] is None or user_data['humidity'] is None or user_data['wind_speed'] is None:\n",
        "        raise ValueError(\"Temperature, humidity, and wind speed must be provided.\")\n",
        "\n",
        "    try:\n",
        "      temperature = float(user_data['temperature'])\n",
        "      humidity = float(user_data['humidity'])\n",
        "      wind_speed = float(user_data['wind_speed'])\n",
        "    except (ValueError, TypeError):\n",
        "      raise ValueError(\"Invalid input for temperature, humidity, or wind speed. Please provide numeric values.\")\n",
        "\n",
        "    return {'temperature': temperature, 'humidity': humidity, 'wind_speed': wind_speed}\n",
        "\n",
        "def model_processor(temperature, humidity, wind_speed):\n",
        "\n",
        "    W = 0.5 * temperature**2 - 0.2 * humidity + 0.1 * wind_speed - 15\n",
        "    return W\n",
        "\n",
        "def category_mapper(prediction):\n",
        "    if prediction < 0:\n",
        "        return \"Stormy\"\n",
        "    elif prediction < 10:\n",
        "        return \"Rainy\"\n",
        "    elif prediction < 20:\n",
        "        return \"Cloudy\"\n",
        "    else:\n",
        "        return \"Sunny\"\n",
        "\n",
        "def output_generator(city, prediction_category):\n",
        "    return f\"The weather in {city} is expected to be {prediction_category}.\"\n",
        "\n",
        "def prediction_engine(user_data):\n",
        "  processed_data = data_preprocessor(user_data)\n",
        "  W = model_processor(processed_data['temperature'], processed_data['humidity'], processed_data['wind_speed'])\n",
        "  category = category_mapper(W)\n",
        "  output = output_generator(user_data['city'], category)\n",
        "  return output\n",
        "\n",
        "user_input = data_input(\"London\", \"UK\", temperature=25, humidity=60, wind_speed=10)\n",
        "prediction = prediction_engine(user_input)\n",
        "print(prediction)\n",
        "\n",
        "user_input = data_input(\"London\", \"UK\", temperature=5, humidity=20, wind_speed=1)\n",
        "prediction = prediction_engine(user_input)\n",
        "prediction"
      ]
    }
  ]
}