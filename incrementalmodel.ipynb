{
  "nbformat": 4,
  "nbformat_minor": 0,
  "metadata": {
    "colab": {
      "provenance": [],
      "authorship_tag": "ABX9TyP10vbTHmmNL+pO7m032RQl",
      "include_colab_link": true
    },
    "kernelspec": {
      "name": "python3",
      "display_name": "Python 3"
    },
    "language_info": {
      "name": "python"
    }
  },
  "cells": [
    {
      "cell_type": "markdown",
      "metadata": {
        "id": "view-in-github",
        "colab_type": "text"
      },
      "source": [
        "<a href=\"https://colab.research.google.com/github/sucharithabobba/SElab/blob/main/incrementalmodel.ipynb\" target=\"_parent\"><img src=\"https://colab.research.google.com/assets/colab-badge.svg\" alt=\"Open In Colab\"/></a>"
      ]
    },
    {
      "cell_type": "markdown",
      "source": [
        "Implement incremental modeling* using the quadratic solution in stages: hard-coding variables keyboard input, read from a file, for a single set of input, multiple sets of inputs. a. save all versions, debug, fix problems, create a Github account\n",
        "\n",
        "Implementation outline for weather modeling using a quadratic solution. The approach evolves in stages:\n",
        "\n",
        "Hardcoding variables. Accepting variables via keyboard input. Reading variables from a file. Processing a single set of inputs. Processing multiple sets of inputs. At the end, you will save the versions, debug, fix issues, and push the project to GitHub.\n"
      ],
      "metadata": {
        "id": "E4zfzIzC9CPr"
      }
    },
    {
      "cell_type": "code",
      "execution_count": 1,
      "metadata": {
        "colab": {
          "base_uri": "https://localhost:8080/"
        },
        "id": "Ua6tJ8H382_s",
        "outputId": "9a497b3f-4d61-4cb4-9070-e5aee71778bc"
      },
      "outputs": [
        {
          "output_type": "stream",
          "name": "stdout",
          "text": [
            "Weather Prediction Quadratic Model\n",
            "Hardcoded: W = 426.00, Category = Sunny\n"
          ]
        }
      ],
      "source": [
        "def calculate_weather_model(T, H, W):\n",
        "    weather_value = 0.5 * T**2 - 0.2 * H + 0.1 * W - 15\n",
        "    return weather_value\n",
        "\n",
        "def categorize_weather(weather_value):\n",
        "    if weather_value >= 20:\n",
        "        return \"Sunny\"\n",
        "    elif 10 <= weather_value < 20:\n",
        "        return \"Cloudy\"\n",
        "    elif 0 <= weather_value < 10:\n",
        "        return \"Rainy\"\n",
        "    else:\n",
        "        return \"Stormy\"\n",
        "\n",
        "def hardcoded_weather_model():\n",
        "    T, H, W = 30, 50, 10  # Example hardcoded values\n",
        "    weather_value = calculate_weather_model(T, H, W)\n",
        "    category = categorize_weather(weather_value)\n",
        "    print(f\"Hardcoded: W = {weather_value:.2f}, Category = {category}\")\n",
        "\n",
        "def main():\n",
        "    print(\"Weather Prediction Quadratic Model\")\n",
        "    hardcoded_weather_model()\n",
        "\n",
        "if __name__ == \"__main__\":\n",
        "    main()\n",
        "\n"
      ]
    },
    {
      "cell_type": "code",
      "source": [
        "def keyboard_weather_model():\n",
        "    T = float(input(\"Enter Temperature (T): \"))\n",
        "    H = float(input(\"Enter Humidity (H): \"))\n",
        "    W = float(input(\"Enter Wind Speed (W): \"))\n",
        "    weather_value = calculate_weather_model(T, H, W)\n",
        "    category = categorize_weather(weather_value)\n",
        "    print(f\"Keyboard Input: W = {weather_value:.2f}, Category = {category}\")\n",
        "\n",
        "def main():\n",
        "    print(\"Weather Prediction Quadratic Model\")\n",
        "    keyboard_weather_model()\n",
        "\n",
        "if __name__ == \"__main__\":\n",
        "    main()\n",
        "\n"
      ],
      "metadata": {
        "colab": {
          "base_uri": "https://localhost:8080/"
        },
        "id": "uAAI0ScK9SL8",
        "outputId": "04a32aed-396e-466b-cbeb-04f45bbefd49"
      },
      "execution_count": 2,
      "outputs": [
        {
          "output_type": "stream",
          "name": "stdout",
          "text": [
            "Weather Prediction Quadratic Model\n",
            "Enter Temperature (T): 12\n",
            "Enter Humidity (H): 23\n",
            "Enter Wind Speed (W): 23\n",
            "Keyboard Input: W = 54.70, Category = Sunny\n"
          ]
        }
      ]
    },
    {
      "cell_type": "code",
      "source": [
        "def file_weather_model():\n",
        "    try:\n",
        "        with open(\"spam.txt\", \"r\") as file:\n",
        "            lines = file.readlines()\n",
        "        for idx, line in enumerate(lines):\n",
        "            T, H, W = map(float, line.strip().split())\n",
        "            weather_value = calculate_weather_model(T, H, W)\n",
        "            category = categorize_weather(weather_value)\n",
        "            print(f\"File Input (Set {idx + 1}): W = {weather_value:.2f}, Category = {category}\")\n",
        "    except FileNotFoundError:\n",
        "        print(\"Error: File 'spam.txt' not found.\")\n",
        "    except ValueError:\n",
        "        print(\"Error: Invalid data format in 'spam.txt'.\")\n",
        "\n",
        "def main():\n",
        "    print(\"Weather Prediction Quadratic Model\")\n",
        "    file_weather_model()\n",
        "\n",
        "if __name__ == \"__main__\":\n",
        "    main()\n",
        "\n",
        "\n",
        "\n"
      ],
      "metadata": {
        "colab": {
          "base_uri": "https://localhost:8080/"
        },
        "id": "eCOF9jYN9Y5V",
        "outputId": "e1cfc266-5abd-4810-8cae-ae283cb5aa72"
      },
      "execution_count": 3,
      "outputs": [
        {
          "output_type": "stream",
          "name": "stdout",
          "text": [
            "Weather Prediction Quadratic Model\n",
            "Error: File 'spam.txt' not found.\n"
          ]
        }
      ]
    },
    {
      "cell_type": "code",
      "source": [
        "def single_input_weather_model():\n",
        "    T = float(input(\"Enter Temperature (T): \"))\n",
        "    H = float(input(\"Enter Humidity (H): \"))\n",
        "    W = float(input(\"Enter Wind Speed (W): \"))\n",
        "    weather_value = calculate_weather_model(T, H, W)\n",
        "    category = categorize_weather(weather_value)\n",
        "    print(f\"Single Input: W = {weather_value:.2f}, Category = {category}\")\n",
        "\n",
        "def main():\n",
        "    print(\"Weather Prediction Quadratic Model\")\n",
        "    single_input_weather_model()\n",
        "\n",
        "if __name__ == \"__main__\":\n",
        "    main()\n"
      ],
      "metadata": {
        "colab": {
          "base_uri": "https://localhost:8080/"
        },
        "id": "nyzo4i4u9dgW",
        "outputId": "16f6749d-08d1-4f74-8790-c6b2fe4d7822"
      },
      "execution_count": 4,
      "outputs": [
        {
          "output_type": "stream",
          "name": "stdout",
          "text": [
            "Weather Prediction Quadratic Model\n",
            "Enter Temperature (T): 12\n",
            "Enter Humidity (H): 4\n",
            "Enter Wind Speed (W): 22\n",
            "Single Input: W = 58.40, Category = Sunny\n"
          ]
        }
      ]
    },
    {
      "cell_type": "code",
      "source": [
        "def multiple_input_weather_model():\n",
        "    num_sets = int(input(\"Enter number of input sets: \"))\n",
        "    for i in range(num_sets):\n",
        "        print(f\"\\nSet {i + 1}:\")\n",
        "        T = float(input(\"Enter Temperature (T): \"))\n",
        "        H = float(input(\"Enter Humidity (H): \"))\n",
        "        W = float(input(\"Enter Wind Speed (W): \"))\n",
        "        weather_value = calculate_weather_model(T, H, W)\n",
        "        category = categorize_weather(weather_value)\n",
        "        print(f\"Set {i + 1}: W = {weather_value:.2f}, Category = {category}\")\n",
        "\n",
        "def main():\n",
        "    print(\"Weather Prediction Quadratic Model\")\n",
        "    multiple_input_weather_model()\n",
        "\n",
        "if __name__ == \"__main__\":\n",
        "    main()"
      ],
      "metadata": {
        "colab": {
          "base_uri": "https://localhost:8080/"
        },
        "id": "-UwoBLoR9iZ3",
        "outputId": "cb1b7410-89f2-4080-b2ac-083437d46033"
      },
      "execution_count": 5,
      "outputs": [
        {
          "output_type": "stream",
          "name": "stdout",
          "text": [
            "Weather Prediction Quadratic Model\n",
            "Enter number of input sets: 2\n",
            "\n",
            "Set 1:\n",
            "Enter Temperature (T): 12\n",
            "Enter Humidity (H): 23\n",
            "Enter Wind Speed (W): 21\n",
            "Set 1: W = 54.50, Category = Sunny\n",
            "\n",
            "Set 2:\n",
            "Enter Temperature (T): 12\n",
            "Enter Humidity (H): 23\n",
            "Enter Wind Speed (W): 32\n",
            "Set 2: W = 55.60, Category = Sunny\n"
          ]
        }
      ]
    }
  ]
}